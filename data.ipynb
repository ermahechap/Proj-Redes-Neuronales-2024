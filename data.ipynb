{
 "cells": [
  {
   "cell_type": "markdown",
   "metadata": {},
   "source": [
    "**Datasets:**\n",
    "\n",
    "ISPRS postdam: https://www.isprs.org/education/benchmarks/UrbanSemLab/default.aspx\n",
    "* 38 patches\n",
    "* orthopoto TOP & DSM\n",
    "\n",
    "Dubai: https://www.kaggle.com/datasets/humansintheloop/semantic-segmentation-of-aerial-imagery/data\n",
    "* This is a simple dataset...\n",
    "* I think I will use this for testing/learning\n",
    "\n",
    "\n",
    "Inria: https://project.inria.fr/aerialimagelabeling/\n",
    "* Only two classes... building and background\n",
    "\n",
    "---\n",
    "**Code examples:**\n",
    "* https://github.com/mrsebai/aerial-tile-segmentation?tab=readme-ov-file\n",
    "\n",
    "\n",
    "---\n",
    "**Libraires:**\n",
    "\n",
    "\n",
    "---\n",
    "**Reading:**\n",
    "* https://medium.com/@robmarkcole/a-brief-introduction-to-satellite-image-segmentation-with-neural-networks-33ea732d5bce\n",
    "* https://towardsdatascience.com/u-net-for-semantic-segmentation-on-unbalanced-aerial-imagery-3474fa1d3e56\n",
    "\n",
    "---\n",
    "**Papers:**\n",
    "\n",
    "---\n",
    "**Other sources:**\n",
    "* https://github.com/satellite-image-deep-learning/techniques?tab=readme-ov-file#segmentation\n"
   ]
  },
  {
   "cell_type": "code",
   "execution_count": 1,
   "metadata": {},
   "outputs": [],
   "source": [
    "import pandas as pd\n",
    "import numpy as np"
   ]
  },
  {
   "cell_type": "code",
   "execution_count": null,
   "metadata": {},
   "outputs": [],
   "source": []
  },
  {
   "cell_type": "code",
   "execution_count": null,
   "metadata": {},
   "outputs": [],
   "source": []
  }
 ],
 "metadata": {
  "kernelspec": {
   "display_name": "mlenv_nn",
   "language": "python",
   "name": "python3"
  },
  "language_info": {
   "codemirror_mode": {
    "name": "ipython",
    "version": 3
   },
   "file_extension": ".py",
   "mimetype": "text/x-python",
   "name": "python",
   "nbconvert_exporter": "python",
   "pygments_lexer": "ipython3",
   "version": "3.11.11"
  }
 },
 "nbformat": 4,
 "nbformat_minor": 2
}
